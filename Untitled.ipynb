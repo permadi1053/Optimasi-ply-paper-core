{
 "cells": [
  {
   "cell_type": "code",
   "execution_count": 174,
   "id": "d9b912ae",
   "metadata": {},
   "outputs": [],
   "source": [
    "import pandas as pd\n",
    "from sklearn.model_selection import train_test_split\n",
    "from sklearn.linear_model import LinearRegression\n",
    "from sklearn.ensemble import RandomForestRegressor\n",
    "from sklearn.metrics import mean_squared_error\n",
    "from sklearn.metrics import r2_score\n",
    "from sklearn.metrics import accuracy_score\n"
   ]
  },
  {
   "cell_type": "code",
   "execution_count": 175,
   "id": "e5bcf393",
   "metadata": {},
   "outputs": [],
   "source": [
    "data = pd.read_csv('data.csv')"
   ]
  },
  {
   "cell_type": "code",
   "execution_count": 183,
   "id": "47944c61",
   "metadata": {},
   "outputs": [],
   "source": [
    "# Split data into features (X) and target variable (y)\n",
    "X = data.drop('strength', axis=1)  \n",
    "y = data['strength']"
   ]
  },
  {
   "cell_type": "code",
   "execution_count": 184,
   "id": "33c34f0e",
   "metadata": {},
   "outputs": [],
   "source": [
    "# split data test and training\n",
    "X_train, X_test, y_train, y_test = train_test_split(X, y, test_size = 0.3, random_state = 42)"
   ]
  },
  {
   "cell_type": "code",
   "execution_count": 185,
   "id": "850b1d5e",
   "metadata": {},
   "outputs": [
    {
     "data": {
      "text/html": [
       "<style>#sk-container-id-16 {color: black;background-color: white;}#sk-container-id-16 pre{padding: 0;}#sk-container-id-16 div.sk-toggleable {background-color: white;}#sk-container-id-16 label.sk-toggleable__label {cursor: pointer;display: block;width: 100%;margin-bottom: 0;padding: 0.3em;box-sizing: border-box;text-align: center;}#sk-container-id-16 label.sk-toggleable__label-arrow:before {content: \"▸\";float: left;margin-right: 0.25em;color: #696969;}#sk-container-id-16 label.sk-toggleable__label-arrow:hover:before {color: black;}#sk-container-id-16 div.sk-estimator:hover label.sk-toggleable__label-arrow:before {color: black;}#sk-container-id-16 div.sk-toggleable__content {max-height: 0;max-width: 0;overflow: hidden;text-align: left;background-color: #f0f8ff;}#sk-container-id-16 div.sk-toggleable__content pre {margin: 0.2em;color: black;border-radius: 0.25em;background-color: #f0f8ff;}#sk-container-id-16 input.sk-toggleable__control:checked~div.sk-toggleable__content {max-height: 200px;max-width: 100%;overflow: auto;}#sk-container-id-16 input.sk-toggleable__control:checked~label.sk-toggleable__label-arrow:before {content: \"▾\";}#sk-container-id-16 div.sk-estimator input.sk-toggleable__control:checked~label.sk-toggleable__label {background-color: #d4ebff;}#sk-container-id-16 div.sk-label input.sk-toggleable__control:checked~label.sk-toggleable__label {background-color: #d4ebff;}#sk-container-id-16 input.sk-hidden--visually {border: 0;clip: rect(1px 1px 1px 1px);clip: rect(1px, 1px, 1px, 1px);height: 1px;margin: -1px;overflow: hidden;padding: 0;position: absolute;width: 1px;}#sk-container-id-16 div.sk-estimator {font-family: monospace;background-color: #f0f8ff;border: 1px dotted black;border-radius: 0.25em;box-sizing: border-box;margin-bottom: 0.5em;}#sk-container-id-16 div.sk-estimator:hover {background-color: #d4ebff;}#sk-container-id-16 div.sk-parallel-item::after {content: \"\";width: 100%;border-bottom: 1px solid gray;flex-grow: 1;}#sk-container-id-16 div.sk-label:hover label.sk-toggleable__label {background-color: #d4ebff;}#sk-container-id-16 div.sk-serial::before {content: \"\";position: absolute;border-left: 1px solid gray;box-sizing: border-box;top: 0;bottom: 0;left: 50%;z-index: 0;}#sk-container-id-16 div.sk-serial {display: flex;flex-direction: column;align-items: center;background-color: white;padding-right: 0.2em;padding-left: 0.2em;position: relative;}#sk-container-id-16 div.sk-item {position: relative;z-index: 1;}#sk-container-id-16 div.sk-parallel {display: flex;align-items: stretch;justify-content: center;background-color: white;position: relative;}#sk-container-id-16 div.sk-item::before, #sk-container-id-16 div.sk-parallel-item::before {content: \"\";position: absolute;border-left: 1px solid gray;box-sizing: border-box;top: 0;bottom: 0;left: 50%;z-index: -1;}#sk-container-id-16 div.sk-parallel-item {display: flex;flex-direction: column;z-index: 1;position: relative;background-color: white;}#sk-container-id-16 div.sk-parallel-item:first-child::after {align-self: flex-end;width: 50%;}#sk-container-id-16 div.sk-parallel-item:last-child::after {align-self: flex-start;width: 50%;}#sk-container-id-16 div.sk-parallel-item:only-child::after {width: 0;}#sk-container-id-16 div.sk-dashed-wrapped {border: 1px dashed gray;margin: 0 0.4em 0.5em 0.4em;box-sizing: border-box;padding-bottom: 0.4em;background-color: white;}#sk-container-id-16 div.sk-label label {font-family: monospace;font-weight: bold;display: inline-block;line-height: 1.2em;}#sk-container-id-16 div.sk-label-container {text-align: center;}#sk-container-id-16 div.sk-container {/* jupyter's `normalize.less` sets `[hidden] { display: none; }` but bootstrap.min.css set `[hidden] { display: none !important; }` so we also need the `!important` here to be able to override the default hidden behavior on the sphinx rendered scikit-learn.org. See: https://github.com/scikit-learn/scikit-learn/issues/21755 */display: inline-block !important;position: relative;}#sk-container-id-16 div.sk-text-repr-fallback {display: none;}</style><div id=\"sk-container-id-16\" class=\"sk-top-container\"><div class=\"sk-text-repr-fallback\"><pre>RandomForestRegressor()</pre><b>In a Jupyter environment, please rerun this cell to show the HTML representation or trust the notebook. <br />On GitHub, the HTML representation is unable to render, please try loading this page with nbviewer.org.</b></div><div class=\"sk-container\" hidden><div class=\"sk-item\"><div class=\"sk-estimator sk-toggleable\"><input class=\"sk-toggleable__control sk-hidden--visually\" id=\"sk-estimator-id-16\" type=\"checkbox\" checked><label for=\"sk-estimator-id-16\" class=\"sk-toggleable__label sk-toggleable__label-arrow\">RandomForestRegressor</label><div class=\"sk-toggleable__content\"><pre>RandomForestRegressor()</pre></div></div></div></div></div>"
      ],
      "text/plain": [
       "RandomForestRegressor()"
      ]
     },
     "execution_count": 185,
     "metadata": {},
     "output_type": "execute_result"
    }
   ],
   "source": [
    "#model = LinearRegression()\n",
    "model = RandomForestRegressor()\n",
    "model.fit(X_train, y_train)"
   ]
  },
  {
   "cell_type": "code",
   "execution_count": 186,
   "id": "2f624cd6",
   "metadata": {},
   "outputs": [
    {
     "data": {
      "text/plain": [
       "array([37.6188, 39.3622])"
      ]
     },
     "execution_count": 186,
     "metadata": {},
     "output_type": "execute_result"
    }
   ],
   "source": [
    "y_predic = model.predict(X_test)\n",
    "y_predic"
   ]
  },
  {
   "cell_type": "code",
   "execution_count": 187,
   "id": "965ecca9",
   "metadata": {},
   "outputs": [],
   "source": [
    "ply_predic =  pd.DataFrame ({'3A' : [10.5], '7A' : [4.6061]})"
   ]
  },
  {
   "cell_type": "code",
   "execution_count": 188,
   "id": "8c878596",
   "metadata": {},
   "outputs": [
    {
     "data": {
      "text/plain": [
       "array([36.3488])"
      ]
     },
     "execution_count": 188,
     "metadata": {},
     "output_type": "execute_result"
    }
   ],
   "source": [
    "ply_to_predic = model.predict(ply_predic)\n",
    "ply_to_predic"
   ]
  },
  {
   "cell_type": "code",
   "execution_count": 189,
   "id": "93864e32",
   "metadata": {},
   "outputs": [
    {
     "name": "stdout",
     "output_type": "stream",
     "text": [
      "Mean Squared Error: 423.89\n",
      "R-squared: -1157.08\n"
     ]
    }
   ],
   "source": [
    "# Evaluasi model\n",
    "mse = mean_squared_error (y_test, y_predic)\n",
    "\n",
    "print(f'Mean Squared Error: {mse:.2f}')\n",
    "r2 = r2_score(y_test, y_predic)\n",
    "\n",
    "print(f'R-squared: {r2:.2f}')\n"
   ]
  },
  {
   "cell_type": "code",
   "execution_count": 155,
   "id": "eb985db0",
   "metadata": {},
   "outputs": [
    {
     "name": "stdout",
     "output_type": "stream",
     "text": [
      "Persamaan Linear: strength = 3.38*3A + 1.79*7A + -19.06\n"
     ]
    }
   ],
   "source": [
    "# Mendapatkan koefisien (slope) dan intercept (konstanta)\n",
    "slope = model.coef_[0]\n",
    "intercept = model.intercept_\n",
    "\n",
    "# Menampilkan persamaan linear\n",
    "# Menampilkan persamaan linear\n",
    "print(f'Persamaan Linear: strength = {model.coef_[0]:.2f}*3A + {model.coef_[1]:.2f}*7A + {model.intercept_:.2f}')"
   ]
  },
  {
   "cell_type": "code",
   "execution_count": 9,
   "id": "9b2b57cf",
   "metadata": {},
   "outputs": [
    {
     "name": "stdout",
     "output_type": "stream",
     "text": [
      "Mean Squared Error: 6.57\n",
      "R-squared: 0.96\n",
      "Persamaan Linear: strength = 1.88*3A + 2.82*7A + -13.40\n"
     ]
    },
    {
     "data": {
      "image/png": "[encoded data removed]",
      "text/plain": [
       "<Figure size 640x480 with 1 Axes>"
      ]
     },
     "metadata": {},
     "output_type": "display_data"
    }
   ],
   "source": [
    "import pandas as pd\n",
    "from sklearn.model_selection import train_test_split\n",
    "from sklearn.linear_model import LinearRegression\n",
    "from sklearn.metrics import mean_squared_error, r2_score\n",
    "import matplotlib.pyplot as plt\n",
    "\n",
    "# Data\n",
    "data = pd.read_csv('data.csv')\n",
    "\n",
    "# Pisahkan fitur (X) dan variabel target (y)\n",
    "X = data[['3A', '7A']]\n",
    "y = data['strength']\n",
    "\n",
    "# Bagi data menjadi data latihan dan data pengujian\n",
    "X_train, X_test, y_train, y_test = train_test_split(X, y, test_size= 0.65, random_state=0)\n",
    "\n",
    "# Inisialisasi model regresi linear\n",
    "model = LinearRegression()\n",
    "\n",
    "# Latih model\n",
    "model.fit(X_train, y_train)\n",
    "\n",
    "# Lakukan prediksi pada data pengujian\n",
    "y_pred = model.predict(X_test)\n",
    "\n",
    "# Evaluasi model\n",
    "mse = mean_squared_error(y_test, y_pred)\n",
    "r2 = r2_score(y_test, y_pred)\n",
    "\n",
    "print(f'Mean Squared Error: {mse:.2f}')\n",
    "print(f'R-squared: {r2:.2f}')\n",
    "\n",
    "# Menampilkan persamaan linear\n",
    "print(f'Persamaan Linear: strength = {model.coef_[0]:.2f}*3A + {model.coef_[1]:.2f}*7A + {model.intercept_:.2f}')\n",
    "\n",
    "# Visualisasi hasil prediksi\n",
    "plt.scatter(X_test['3A'], y_test, color='black', label='Actual')\n",
    "plt.scatter(X_test['3A'], y_pred, color='red', label='Predicted')\n",
    "plt.xlabel('3A')\n",
    "plt.ylabel('Strength')\n",
    "plt.legend()\n",
    "plt.show()\n"
   ]
  },
  {
   "cell_type": "code",
   "execution_count": 18,
   "id": "bd0bd0e5",
   "metadata": {},
   "outputs": [
    {
     "data": {
      "text/plain": [
       "array([17.62])"
      ]
     },
     "execution_count": 18,
     "metadata": {},
     "output_type": "execute_result"
    }
   ],
   "source": [
    "ply_predic =  pd.DataFrame ({'3A' : [9], '7A' : [5]})\n",
    "ply_to_predic = model.predict(ply_predic)\n",
    "ply_to_predic"
   ]
  },
  {
   "cell_type": "code",
   "execution_count": 19,
   "id": "29f0c3df",
   "metadata": {},
   "outputs": [
    {
     "name": "stdout",
     "output_type": "stream",
     "text": [
      "Mean Squared Error (Polynomial): 6.57\n",
      "R-squared (Polynomial): 0.96\n"
     ]
    }
   ],
   "source": [
    "from sklearn.preprocessing import PolynomialFeatures\n",
    "from sklearn.pipeline import make_pipeline\n",
    "\n",
    "# Transformasi fitur menjadi fitur polinomial\n",
    "degree = 1  # Anda dapat menyesuaikan derajat polinomial\n",
    "polyreg = make_pipeline(PolynomialFeatures(degree), LinearRegression())\n",
    "\n",
    "# Latih model polinomial\n",
    "polyreg.fit(X_train, y_train)\n",
    "\n",
    "# Lakukan prediksi pada data pengujian\n",
    "y_pred_poly = polyreg.predict(X_test)\n",
    "\n",
    "# Evaluasi model polinomial\n",
    "mse_poly = mean_squared_error(y_test, y_pred_poly)\n",
    "r2_poly = r2_score(y_test, y_pred_poly)\n",
    "\n",
    "print(f'Mean Squared Error (Polynomial): {mse_poly:.2f}')\n",
    "print(f'R-squared (Polynomial): {r2_poly:.2f}')\n"
   ]
  },
  {
   "cell_type": "code",
   "execution_count": 16,
   "id": "ca31b4b7",
   "metadata": {},
   "outputs": [
    {
     "name": "stdout",
     "output_type": "stream",
     "text": [
      "Mean Squared Error (SVR): 122.87\n",
      "R-squared (SVR): 0.31\n"
     ]
    },
    {
     "data": {
      "image/png": "[encoded data removed]",
      "text/plain": [
       "<Figure size 640x480 with 1 Axes>"
      ]
     },
     "metadata": {},
     "output_type": "display_data"
    }
   ],
   "source": [
    "from sklearn.svm import SVR\n",
    "from sklearn.preprocessing import StandardScaler\n",
    "\n",
    "# Normalisasi fitur menggunakan StandarScaler\n",
    "scaler = StandardScaler()\n",
    "X_train_scaled = scaler.fit_transform(X_train)\n",
    "X_test_scaled = scaler.transform(X_test)\n",
    "\n",
    "# Inisialisasi model SVR\n",
    "model_svr = SVR(kernel='linear')\n",
    "\n",
    "# Latih model SVR\n",
    "model_svr.fit(X_train_scaled, y_train)\n",
    "\n",
    "# Lakukan prediksi pada data pengujian\n",
    "y_pred_svr = model_svr.predict(X_test_scaled)\n",
    "\n",
    "# Evaluasi model SVR\n",
    "mse_svr = mean_squared_error(y_test, y_pred_svr)\n",
    "r2_svr = r2_score(y_test, y_pred_svr)\n",
    "\n",
    "print(f'Mean Squared Error (SVR): {mse_svr:.2f}')\n",
    "print(f'R-squared (SVR): {r2_svr:.2f}')\n",
    "\n",
    "# Visualisasi hasil prediksi\n",
    "plt.scatter(X_test['3A'], y_test, color='black', label='Actual')\n",
    "plt.scatter(X_test['3A'], y_pred_svr, color='green', label='Predicted (SVR)')\n",
    "plt.xlabel('3A')\n",
    "plt.ylabel('Strength')\n",
    "plt.legend()\n",
    "plt.show()\n"
   ]
  },
  {
   "cell_type": "code",
   "execution_count": null,
   "id": "45951387",
   "metadata": {},
   "outputs": [],
   "source": []
  }
 ],
 "metadata": {
  "kernelspec": {
   "display_name": "Python 3 (ipykernel)",
   "language": "python",
   "name": "python3"
  },
  "language_info": {
   "codemirror_mode": {
    "name": "ipython",
    "version": 3
   },
   "file_extension": ".py",
   "mimetype": "text/x-python",
   "name": "python",
   "nbconvert_exporter": "python",
   "pygments_lexer": "ipython3",
   "version": "3.10.9"
  }
 },
 "nbformat": 4,
 "nbformat_minor": 5
}
